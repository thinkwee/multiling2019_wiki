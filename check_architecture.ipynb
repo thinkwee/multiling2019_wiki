{
 "cells": [
  {
   "cell_type": "code",
   "execution_count": 1,
   "metadata": {
    "ExecuteTime": {
     "end_time": "2019-07-08T08:41:28.344017Z",
     "start_time": "2019-07-08T08:41:28.337234Z"
    }
   },
   "outputs": [],
   "source": [
    "import xml.dom.minidom\n",
    "import os\n",
    "import xml.etree.cElementTree as ET"
   ]
  },
  {
   "cell_type": "code",
   "execution_count": 2,
   "metadata": {
    "ExecuteTime": {
     "end_time": "2019-07-08T08:41:28.512477Z",
     "start_time": "2019-07-08T08:41:28.506910Z"
    }
   },
   "outputs": [],
   "source": [
    "root_path = \"./WikiTrain19/full/\""
   ]
  },
  {
   "cell_type": "code",
   "execution_count": 3,
   "metadata": {
    "ExecuteTime": {
     "end_time": "2019-07-08T05:50:48.521759Z",
     "start_time": "2019-07-08T05:50:48.516864Z"
    }
   },
   "outputs": [],
   "source": [
    "def get_langs():\n",
    "    langs = os.listdir(root_path)\n",
    "    for lang_name in langs:\n",
    "        if lang_name == 'zh':\n",
    "            get_lang(lang_name, True)\n",
    "        else:\n",
    "            get_lang(lang_name)"
   ]
  },
  {
   "cell_type": "code",
   "execution_count": 5,
   "metadata": {
    "ExecuteTime": {
     "end_time": "2019-07-08T05:51:01.473197Z",
     "start_time": "2019-07-08T05:51:01.465980Z"
    }
   },
   "outputs": [],
   "source": [
    "def get_lang(lang_name, zh=False):\n",
    "    data_tag = []\n",
    "    data_raw = []\n",
    "    lang_path = os.path.join(root_path, lang_name)\n",
    "    lang_file_name = lang_name + '.csv' # 标注过的csv文件名\n",
    "    raw_name = lang_name + '.txt' # 挑选出的训练集中的原始句子文件名\n",
    "    files = os.listdir(lang_path)\n",
    "    for file_name in files:\n",
    "        dom = xml.dom.minidom.parse(os.path.join(lang_path, file_name))\n",
    "        root = dom.documentElement\n",
    "        # 拿到summary下的标签\n",
    "        summary_list = root.getElementsByTagName('summary')\n",
    "        # 拿到所有标签p，每个p都需要再分句\n",
    "        para_list = summary_list[0].getElementsByTagName('p')\n",
    "        title = get_title(dom)\n",
    "        print('title:', title)\n",
    "        get_train_data(title, para_list, data_tag, data_raw, zh)\n",
    "    with open(os.path.join(train_path, lang_file_name), 'w', encoding='utf-8', newline='') as f:\n",
    "        f_csv = csv.writer(f)\n",
    "        f_csv.writerows(data_tag)\n",
    "    with open(os.path.join(raw_path, raw_name), 'w', encoding='utf-8', newline='') as f:\n",
    "        for (title,line) in data_raw:\n",
    "            f.write(title + '\\t' + line + '\\n')\n",
    "    return None     "
   ]
  },
  {
   "cell_type": "code",
   "execution_count": 3,
   "metadata": {
    "ExecuteTime": {
     "end_time": "2019-07-08T08:41:31.289204Z",
     "start_time": "2019-07-08T08:41:31.287275Z"
    }
   },
   "outputs": [],
   "source": [
    "import xml.etree.cElementTree as ET"
   ]
  },
  {
   "cell_type": "code",
   "execution_count": 4,
   "metadata": {
    "ExecuteTime": {
     "end_time": "2019-07-08T08:41:31.494490Z",
     "start_time": "2019-07-08T08:41:31.482207Z"
    }
   },
   "outputs": [],
   "source": [
    "tree = ET.ElementTree(file=\"./WikiTrain19/full/en/ff2940806753c3a39104f13a73ba557a.xml\")"
   ]
  },
  {
   "cell_type": "code",
   "execution_count": 5,
   "metadata": {
    "ExecuteTime": {
     "end_time": "2019-07-08T08:41:31.659464Z",
     "start_time": "2019-07-08T08:41:31.655292Z"
    }
   },
   "outputs": [],
   "source": [
    "root = tree.getroot()"
   ]
  },
  {
   "cell_type": "code",
   "execution_count": 6,
   "metadata": {
    "ExecuteTime": {
     "end_time": "2019-07-08T08:41:31.918202Z",
     "start_time": "2019-07-08T08:41:31.902072Z"
    }
   },
   "outputs": [
    {
     "data": {
      "text/plain": [
       "<Element 'document' at 0x7ff0b0164598>"
      ]
     },
     "execution_count": 6,
     "metadata": {},
     "output_type": "execute_result"
    }
   ],
   "source": [
    "root"
   ]
  },
  {
   "cell_type": "code",
   "execution_count": 7,
   "metadata": {
    "ExecuteTime": {
     "end_time": "2019-07-08T08:41:32.324423Z",
     "start_time": "2019-07-08T08:41:32.315856Z"
    }
   },
   "outputs": [],
   "source": [
    "sec_list = []\n",
    "for section in root[2]:\n",
    "    for sec in section:\n",
    "        if sec.tag==\"header\" or sec.tag==\"p\":\n",
    "            sec_list.append(sec)"
   ]
  },
  {
   "cell_type": "code",
   "execution_count": 8,
   "metadata": {
    "ExecuteTime": {
     "end_time": "2019-07-08T08:41:32.954146Z",
     "start_time": "2019-07-08T08:41:32.951510Z"
    }
   },
   "outputs": [
    {
     "data": {
      "text/plain": [
       "[<Element 'header' at 0x7ff0b0119b38>,\n",
       " <Element 'header' at 0x7ff0b011f3b8>,\n",
       " <Element 'p' at 0x7ff0b011f408>,\n",
       " <Element 'p' at 0x7ff0b011f458>,\n",
       " <Element 'p' at 0x7ff0b011f4a8>,\n",
       " <Element 'header' at 0x7ff0b011f778>,\n",
       " <Element 'p' at 0x7ff0b011f7c8>,\n",
       " <Element 'p' at 0x7ff0b011f818>,\n",
       " <Element 'p' at 0x7ff0b011f868>,\n",
       " <Element 'p' at 0x7ff0b011f8b8>,\n",
       " <Element 'p' at 0x7ff0b011f908>,\n",
       " <Element 'header' at 0x7ff0b011f9a8>,\n",
       " <Element 'p' at 0x7ff0b011f9f8>,\n",
       " <Element 'p' at 0x7ff0b011fa48>,\n",
       " <Element 'p' at 0x7ff0b011fa98>,\n",
       " <Element 'p' at 0x7ff0b011fae8>,\n",
       " <Element 'header' at 0x7ff0b011fb88>,\n",
       " <Element 'p' at 0x7ff0b011fbd8>,\n",
       " <Element 'p' at 0x7ff0b011fc28>,\n",
       " <Element 'header' at 0x7ff0b011fcc8>,\n",
       " <Element 'p' at 0x7ff0b011fd18>,\n",
       " <Element 'p' at 0x7ff0b011fd68>,\n",
       " <Element 'p' at 0x7ff0b011fdb8>,\n",
       " <Element 'p' at 0x7ff0b011fe08>,\n",
       " <Element 'header' at 0x7ff0b011fea8>,\n",
       " <Element 'p' at 0x7ff0b011fef8>,\n",
       " <Element 'p' at 0x7ff0b011ff48>,\n",
       " <Element 'p' at 0x7ff0b011ff98>,\n",
       " <Element 'p' at 0x7ff0b0122048>,\n",
       " <Element 'p' at 0x7ff0b0122098>,\n",
       " <Element 'header' at 0x7ff0b0122138>,\n",
       " <Element 'p' at 0x7ff0b0122188>,\n",
       " <Element 'p' at 0x7ff0b01221d8>,\n",
       " <Element 'p' at 0x7ff0b0122228>,\n",
       " <Element 'p' at 0x7ff0b0122278>,\n",
       " <Element 'p' at 0x7ff0b01222c8>,\n",
       " <Element 'p' at 0x7ff0b0122318>,\n",
       " <Element 'p' at 0x7ff0b0122368>,\n",
       " <Element 'p' at 0x7ff0b01223b8>,\n",
       " <Element 'header' at 0x7ff0b0122458>,\n",
       " <Element 'p' at 0x7ff0b01224a8>]"
      ]
     },
     "execution_count": 8,
     "metadata": {},
     "output_type": "execute_result"
    }
   ],
   "source": [
    "sec_list"
   ]
  },
  {
   "cell_type": "code",
   "execution_count": 9,
   "metadata": {
    "ExecuteTime": {
     "end_time": "2019-07-08T08:41:35.759711Z",
     "start_time": "2019-07-08T08:41:35.756261Z"
    }
   },
   "outputs": [],
   "source": [
    "l = len(sec_list)\n",
    "idx = 0\n",
    "data = []\n",
    "while idx<l:\n",
    "    while sec_list[idx].tag==\"header\":\n",
    "        idx += 1\n",
    "    header = sec_list[idx-1].text\n",
    "    p_idx = idx\n",
    "    while sec_list[p_idx].tag==\"p\":\n",
    "        data.append([header,sec_list[p_idx].text])\n",
    "        p_idx += 1\n",
    "        if p_idx==l:\n",
    "            break\n",
    "    idx = p_idx"
   ]
  },
  {
   "cell_type": "code",
   "execution_count": 11,
   "metadata": {
    "ExecuteTime": {
     "end_time": "2019-07-08T08:53:29.847815Z",
     "start_time": "2019-07-08T08:53:29.843927Z"
    }
   },
   "outputs": [
    {
     "name": "stdout",
     "output_type": "stream",
     "text": [
      "no\n",
      "no\n",
      "no\n",
      "no\n",
      "no\n",
      "no\n",
      "no\n",
      "no\n",
      "no\n",
      "no\n",
      "no\n",
      "no\n",
      "no\n",
      "no\n",
      "no\n",
      "no\n",
      "no\n",
      "no\n",
      "yes\n",
      "Transport Public transport services in Greater Manchester are co-ordinated by Transport for Greater Manchester (TfGM), a public body with powers between those of a passenger transport executive and Transport for London, established as SELNEC PTE in 1969 in accordance with the Transport Act 1968. The original SELNEC Passenger Transport Authority was renamed as the Greater Manchester Passenger Transport Executive (GMPTE) when taken over by the Greater Manchester County Council on 1 April 1974 in order to co-ordinate bus and rail services within the new county. The council had overall responsibility for strategic planning and all policy decisions covering public transport and highways. GMPTE's purpose was to secure the provision of a completely integrated and efficient system of passenger transport to meet the needs of its area. In 1977, it was noted as the largest authority for public transport in the United Kingdom after London Transport. GMPTE was renamed as Transport for Greater Manchester in April 2011 when it became a functional body of the Greater Manchester Combined Authority and obtained powers additional to those of a regular passenger transport executive from central government. \n",
      "no\n",
      "no\n",
      "no\n",
      "no\n",
      "no\n",
      "no\n",
      "no\n",
      "no\n",
      "no\n",
      "no\n",
      "yes\n",
      "Sports The Greater Manchester Athletics Association is the governing body of athletics in Greater Manchester, and organises events and competitions within Greater Manchester. The Greater Manchester Marathon is a long-distance running event along a 26-mile and 385-yard course throughout the borough of Trafford. Professional athletics takes place at the Regional Athletics Arena in Sportcity, which has hosted numerous national trials, Robin Park in Wigan, Longford Park in Stretford (home to Trafford Athletic Club), Woodbank Stadium in Stockport (home to Stockport Harriers) and the Cleavleys Track in Winton (home to Salford Harriers). As of 2008, new sports facilities including a 10,000 capacity stadium and athletics venue are being constructed at Leigh Sports Village. \n",
      "yes\n",
      "Sports The Greater Manchester Community Basketball Club is an association which represents Greater Manchester in basketball. It supports a variety of teams, including Manchester Magic. The Greater Manchester County Crown Green Bowling Association appoints Junior, Senior and Veteran teams to represent Greater Manchester in the sport of bowls. Founded by Greater Manchester's ten district councils in 1996, GreaterSport is the County Sports Partnership for Greater Manchester which works closely with the sports and physical activity sectors and coordinates events such as the Greater Manchester Youth Games. The Greater Manchester Sports Fund aims to ensure that people in Greater Manchester aged 12–21 competing in any kind of sport, irrespective of background, are able to obtain grants of up to £750 so that they can better fulfil their potential. \n",
      "no\n"
     ]
    }
   ],
   "source": [
    "for (title,text) in data:\n",
    "    if title in text:\n",
    "        print(\"yes\")\n",
    "        print(title,text)\n",
    "    else:\n",
    "        print(\"no\")"
   ]
  },
  {
   "cell_type": "code",
   "execution_count": null,
   "metadata": {},
   "outputs": [],
   "source": []
  }
 ],
 "metadata": {
  "kernelspec": {
   "display_name": "Python 3",
   "language": "python",
   "name": "python3"
  },
  "language_info": {
   "codemirror_mode": {
    "name": "ipython",
    "version": 3
   },
   "file_extension": ".py",
   "mimetype": "text/x-python",
   "name": "python",
   "nbconvert_exporter": "python",
   "pygments_lexer": "ipython3",
   "version": "3.7.3"
  },
  "latex_envs": {
   "LaTeX_envs_menu_present": true,
   "autoclose": false,
   "autocomplete": true,
   "bibliofile": "biblio.bib",
   "cite_by": "apalike",
   "current_citInitial": 1,
   "eqLabelWithNumbers": true,
   "eqNumInitial": 1,
   "hotkeys": {
    "equation": "Ctrl-E",
    "itemize": "Ctrl-I"
   },
   "labels_anchors": false,
   "latex_user_defs": false,
   "report_style_numbering": false,
   "user_envs_cfg": false
  }
 },
 "nbformat": 4,
 "nbformat_minor": 2
}
