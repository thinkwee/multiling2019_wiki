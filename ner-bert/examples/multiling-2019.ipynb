{
 "cells": [
  {
   "cell_type": "markdown",
   "metadata": {},
   "source": [
    "### Multiling 2019 evaluation"
   ]
  },
  {
   "cell_type": "code",
   "execution_count": null,
   "metadata": {
    "ExecuteTime": {
     "end_time": "2019-07-10T03:07:55.647573Z",
     "start_time": "2019-07-10T03:07:55.419283Z"
    }
   },
   "outputs": [],
   "source": [
    "%reload_ext autoreload\n",
    "%autoreload 2\n",
    "%matplotlib inline\n",
    "\n",
    "import pandas as pd\n",
    "import warnings\n",
    "import os\n",
    "import sys\n",
    "\n",
    "sys.path.append(\"../\")\n",
    "\n",
    "warnings.filterwarnings(\"ignore\")"
   ]
  },
  {
   "cell_type": "code",
   "execution_count": null,
   "metadata": {
    "ExecuteTime": {
     "end_time": "2019-07-08T09:12:08.962146Z",
     "start_time": "2019-07-08T09:12:08.938127Z"
    }
   },
   "outputs": [],
   "source": [
    "data_path = \"/home/lyn/lw/multiling2019/multiling2019_wiki/WikiTrain19/tagged_data/data/\""
   ]
  },
  {
   "cell_type": "code",
   "execution_count": null,
   "metadata": {
    "ExecuteTime": {
     "end_time": "2019-07-08T09:12:09.801588Z",
     "start_time": "2019-07-08T09:12:09.795291Z"
    }
   },
   "outputs": [],
   "source": [
    "import pandas as pd"
   ]
  },
  {
   "cell_type": "code",
   "execution_count": null,
   "metadata": {
    "ExecuteTime": {
     "end_time": "2019-07-08T09:12:10.358050Z",
     "start_time": "2019-07-08T09:12:10.248500Z"
    }
   },
   "outputs": [],
   "source": [
    "train_df = pd.read_csv(data_path + \"train.csv\", header=-1)\n",
    "# train_df.to_csv(data_path + \"train.csv\", index=False, header=['0', '1'])"
   ]
  },
  {
   "cell_type": "code",
   "execution_count": null,
   "metadata": {
    "ExecuteTime": {
     "end_time": "2019-07-08T09:12:11.035423Z",
     "start_time": "2019-07-08T09:12:11.021870Z"
    }
   },
   "outputs": [],
   "source": [
    "valid_df = pd.read_csv(data_path + \"valid.csv\", header=-1)\n",
    "# valid_df.to_csv(data_path + \"valid.csv\", index=False, header=['0', '1'])"
   ]
  },
  {
   "cell_type": "code",
   "execution_count": null,
   "metadata": {
    "ExecuteTime": {
     "end_time": "2019-07-08T09:12:11.536451Z",
     "start_time": "2019-07-08T09:12:11.496580Z"
    }
   },
   "outputs": [],
   "source": [
    "test_df = pd.read_csv(data_path + \"test.csv\", header=-1)\n",
    "# test_df.to_csv(data_path + \"test.csv\", index=False, header=['0', '1'])"
   ]
  },
  {
   "cell_type": "code",
   "execution_count": null,
   "metadata": {
    "ExecuteTime": {
     "end_time": "2019-07-08T09:12:18.562132Z",
     "start_time": "2019-07-08T09:12:18.542607Z"
    }
   },
   "outputs": [],
   "source": [
    "train_df"
   ]
  },
  {
   "cell_type": "markdown",
   "metadata": {},
   "source": [
    "### 1. Create data loaders"
   ]
  },
  {
   "cell_type": "code",
   "execution_count": null,
   "metadata": {
    "ExecuteTime": {
     "end_time": "2019-07-08T09:12:27.941042Z",
     "start_time": "2019-07-08T09:12:27.933645Z"
    }
   },
   "outputs": [],
   "source": [
    "import os\n",
    "\n",
    "train_path = data_path + \"train.csv\"\n",
    "valid_path = data_path + \"valid.csv\"\n",
    "test_path = data_path + \"test.csv\"\n",
    "\n",
    "model_dir = \" /home/lyn/lw/multiling2019/multiling2019_wiki/ner-bertdatadrive/multi_cased_L-12_H-768_A-12/\"\n",
    "init_checkpoint_pt = os.path.join(\n",
    "    \"/home/lyn/lw/multiling2019/multiling2019_wiki/ner-bert/datadrive/multi_cased_L-12_H-768_A-12/\",\n",
    "    \"pytorch_model.bin\")\n",
    "bert_config_file = os.path.join(\n",
    "    \"/home/lyn/lw/multiling2019/multiling2019_wiki/ner-bert/datadrive/multi_cased_L-12_H-768_A-12/\",\n",
    "    \"bert_config.json\")\n",
    "vocab_file = os.path.join(\n",
    "    \"/home/lyn/lw/multiling2019/multiling2019_wiki/ner-bert/datadrive/multi_cased_L-12_H-768_A-12/\",\n",
    "    \"vocab.txt\")"
   ]
  },
  {
   "cell_type": "code",
   "execution_count": null,
   "metadata": {
    "ExecuteTime": {
     "end_time": "2019-07-08T09:12:29.140066Z",
     "start_time": "2019-07-08T09:12:28.579577Z"
    }
   },
   "outputs": [],
   "source": [
    "import torch\n",
    "torch.cuda.set_device(0)\n",
    "torch.cuda.is_available(), torch.cuda.current_device()"
   ]
  },
  {
   "cell_type": "code",
   "execution_count": null,
   "metadata": {
    "ExecuteTime": {
     "end_time": "2019-07-08T09:12:30.419587Z",
     "start_time": "2019-07-08T09:12:29.950681Z"
    }
   },
   "outputs": [],
   "source": [
    "from modules import BertNerData as NerData"
   ]
  },
  {
   "cell_type": "code",
   "execution_count": null,
   "metadata": {
    "ExecuteTime": {
     "end_time": "2019-07-08T09:12:39.304214Z",
     "start_time": "2019-07-08T09:12:31.139702Z"
    }
   },
   "outputs": [],
   "source": [
    "data = NerData.create(train_path, valid_path, vocab_file)"
   ]
  },
  {
   "cell_type": "code",
   "execution_count": null,
   "metadata": {
    "ExecuteTime": {
     "end_time": "2019-07-08T09:12:40.863813Z",
     "start_time": "2019-07-08T09:12:40.851779Z"
    }
   },
   "outputs": [],
   "source": [
    "len(data.train_dl.dataset), len(data.valid_dl.dataset)"
   ]
  },
  {
   "cell_type": "code",
   "execution_count": null,
   "metadata": {
    "ExecuteTime": {
     "end_time": "2019-07-08T09:12:43.247264Z",
     "start_time": "2019-07-08T09:12:43.235799Z"
    }
   },
   "outputs": [],
   "source": [
    "print(data.id2label)"
   ]
  },
  {
   "cell_type": "code",
   "execution_count": null,
   "metadata": {
    "ExecuteTime": {
     "end_time": "2019-07-08T09:12:48.110819Z",
     "start_time": "2019-07-08T09:12:48.099956Z"
    }
   },
   "outputs": [],
   "source": [
    "sup_labels = ['B_MISC', 'I_MISC']"
   ]
  },
  {
   "cell_type": "code",
   "execution_count": null,
   "metadata": {
    "ExecuteTime": {
     "end_time": "2019-07-08T09:12:49.056568Z",
     "start_time": "2019-07-08T09:12:49.039258Z"
    }
   },
   "outputs": [],
   "source": [
    "max([len(f.labels_ids) for f in data.train_dl.dataset])"
   ]
  },
  {
   "cell_type": "markdown",
   "metadata": {},
   "source": [
    "### 2. Create model"
   ]
  },
  {
   "cell_type": "code",
   "execution_count": null,
   "metadata": {
    "ExecuteTime": {
     "end_time": "2019-07-08T09:12:49.924788Z",
     "start_time": "2019-07-08T09:12:49.908078Z"
    }
   },
   "outputs": [],
   "source": [
    "from modules.models.bert_models import BertBiLSTMAttnCRF"
   ]
  },
  {
   "cell_type": "code",
   "execution_count": null,
   "metadata": {
    "ExecuteTime": {
     "end_time": "2019-07-08T09:12:53.814136Z",
     "start_time": "2019-07-08T09:12:50.264362Z"
    }
   },
   "outputs": [],
   "source": [
    "model = BertBiLSTMAttnCRF.create(len(data.label2idx),\n",
    "                                 bert_config_file,\n",
    "                                 init_checkpoint_pt,\n",
    "                                 enc_hidden_dim=256)"
   ]
  },
  {
   "cell_type": "code",
   "execution_count": null,
   "metadata": {
    "ExecuteTime": {
     "end_time": "2019-07-08T09:12:53.827999Z",
     "start_time": "2019-07-08T09:12:53.815054Z"
    }
   },
   "outputs": [],
   "source": [
    "model.get_n_trainable_params()"
   ]
  },
  {
   "cell_type": "markdown",
   "metadata": {},
   "source": [
    "#### TODO: fix bug with len"
   ]
  },
  {
   "cell_type": "markdown",
   "metadata": {},
   "source": [
    "### 3. Create Learner"
   ]
  },
  {
   "cell_type": "code",
   "execution_count": null,
   "metadata": {
    "ExecuteTime": {
     "end_time": "2019-07-08T09:12:58.017116Z",
     "start_time": "2019-07-08T09:12:58.006253Z"
    }
   },
   "outputs": [],
   "source": [
    "from modules import NerLearner"
   ]
  },
  {
   "cell_type": "code",
   "execution_count": null,
   "metadata": {
    "ExecuteTime": {
     "end_time": "2019-07-08T09:13:48.928501Z",
     "start_time": "2019-07-08T09:13:48.916397Z"
    }
   },
   "outputs": [],
   "source": [
    "num_epochs = 10\n",
    "learner = NerLearner(\n",
    "    model,\n",
    "    data,\n",
    "    best_model_path=\n",
    "    \"/home/lyn/lw/multiling2019/multiling2019_wiki/ner-bert/datadrive/models/multiling-2019/BertBiLSTMAttnCRF.cpt\",\n",
    "    lr=0.001,\n",
    "    clip=1.0,\n",
    "    sup_labels=sup_labels,\n",
    "    t_total=num_epochs * len(data.train_dl))"
   ]
  },
  {
   "cell_type": "markdown",
   "metadata": {},
   "source": [
    "### 4. Start learning"
   ]
  },
  {
   "cell_type": "code",
   "execution_count": null,
   "metadata": {
    "ExecuteTime": {
     "end_time": "2019-07-08T09:35:35.288329Z",
     "start_time": "2019-07-08T09:13:51.909296Z"
    },
    "scrolled": true
   },
   "outputs": [],
   "source": [
    "learner.fit(num_epochs, target_metric='f1')"
   ]
  },
  {
   "cell_type": "markdown",
   "metadata": {},
   "source": [
    "### 5. Evaluate dev set"
   ]
  },
  {
   "cell_type": "code",
   "execution_count": null,
   "metadata": {
    "ExecuteTime": {
     "end_time": "2019-07-08T09:39:17.978250Z",
     "start_time": "2019-07-08T09:39:17.107313Z"
    }
   },
   "outputs": [],
   "source": [
    "from modules.data.bert_data import get_bert_data_loader_for_predict\n",
    "dl,f = get_bert_data_loader_for_predict(data_path + \"valid.csv\", learner)"
   ]
  },
  {
   "cell_type": "code",
   "execution_count": null,
   "metadata": {
    "ExecuteTime": {
     "end_time": "2019-07-08T09:39:18.818399Z",
     "start_time": "2019-07-08T09:39:18.473429Z"
    }
   },
   "outputs": [],
   "source": [
    "learner.load_model()"
   ]
  },
  {
   "cell_type": "code",
   "execution_count": null,
   "metadata": {
    "ExecuteTime": {
     "end_time": "2019-07-08T09:39:30.825731Z",
     "start_time": "2019-07-08T09:39:19.687711Z"
    }
   },
   "outputs": [],
   "source": [
    "preds = learner.predict(dl)"
   ]
  },
  {
   "cell_type": "code",
   "execution_count": null,
   "metadata": {
    "ExecuteTime": {
     "end_time": "2019-07-08T09:39:31.017183Z",
     "start_time": "2019-07-08T09:39:30.826830Z"
    }
   },
   "outputs": [],
   "source": [
    "preds"
   ]
  },
  {
   "cell_type": "markdown",
   "metadata": {},
   "source": [
    "# IOB precision"
   ]
  },
  {
   "cell_type": "code",
   "execution_count": null,
   "metadata": {
    "ExecuteTime": {
     "end_time": "2019-07-08T09:39:44.768128Z",
     "start_time": "2019-07-08T09:39:31.018434Z"
    }
   },
   "outputs": [],
   "source": [
    "from modules.train.train import validate_step\n",
    "print(\n",
    "    validate_step(learner.data.valid_dl, learner.model, learner.data.id2label,\n",
    "                  learner.sup_labels))"
   ]
  },
  {
   "cell_type": "markdown",
   "metadata": {},
   "source": [
    "# Span precision"
   ]
  },
  {
   "cell_type": "code",
   "execution_count": null,
   "metadata": {
    "ExecuteTime": {
     "end_time": "2019-07-08T09:39:45.452282Z",
     "start_time": "2019-07-08T09:39:44.769364Z"
    }
   },
   "outputs": [],
   "source": [
    "from modules.utils.plot_metrics import get_bert_span_report\n",
    "clf_report = get_bert_span_report(dl, preds, [])\n",
    "print(clf_report)"
   ]
  },
  {
   "cell_type": "markdown",
   "metadata": {},
   "source": [
    "### 6. Evaluate test set"
   ]
  },
  {
   "cell_type": "code",
   "execution_count": null,
   "metadata": {
    "ExecuteTime": {
     "end_time": "2019-07-08T09:39:46.323029Z",
     "start_time": "2019-07-08T09:39:45.453461Z"
    }
   },
   "outputs": [],
   "source": [
    "from modules.data.bert_data import get_bert_data_loader_for_predict\n",
    "dl,f = get_bert_data_loader_for_predict(data_path + \"test.csv\", learner)"
   ]
  },
  {
   "cell_type": "code",
   "execution_count": null,
   "metadata": {
    "ExecuteTime": {
     "end_time": "2019-07-08T09:39:58.080732Z",
     "start_time": "2019-07-08T09:39:46.323974Z"
    }
   },
   "outputs": [],
   "source": [
    "preds = learner.predict(dl)"
   ]
  },
  {
   "cell_type": "code",
   "execution_count": null,
   "metadata": {
    "ExecuteTime": {
     "end_time": "2019-07-08T09:40:07.130531Z",
     "start_time": "2019-07-08T09:39:58.081982Z"
    }
   },
   "outputs": [],
   "source": [
    "data = NerData.create(train_path, data_path + \"test.csv\", vocab_file)"
   ]
  },
  {
   "cell_type": "markdown",
   "metadata": {},
   "source": [
    "# IOB precision"
   ]
  },
  {
   "cell_type": "code",
   "execution_count": null,
   "metadata": {
    "ExecuteTime": {
     "end_time": "2019-07-08T09:40:21.463440Z",
     "start_time": "2019-07-08T09:40:07.132029Z"
    }
   },
   "outputs": [],
   "source": [
    "from modules.train.train import validate_step\n",
    "print(\n",
    "    validate_step(data.valid_dl, learner.model, learner.data.id2label,\n",
    "                  learner.sup_labels))"
   ]
  },
  {
   "cell_type": "markdown",
   "metadata": {},
   "source": [
    "# Span precision"
   ]
  },
  {
   "cell_type": "code",
   "execution_count": null,
   "metadata": {
    "ExecuteTime": {
     "end_time": "2019-07-08T09:40:21.802483Z",
     "start_time": "2019-07-08T09:40:21.464646Z"
    }
   },
   "outputs": [],
   "source": [
    "from modules.utils.plot_metrics import get_bert_span_report\n",
    "clf_report = get_bert_span_report(dl, preds, [])\n",
    "print(clf_report)"
   ]
  },
  {
   "cell_type": "code",
   "execution_count": null,
   "metadata": {
    "ExecuteTime": {
     "end_time": "2019-07-08T09:40:21.814343Z",
     "start_time": "2019-07-08T09:40:21.803421Z"
    }
   },
   "outputs": [],
   "source": [
    "import os"
   ]
  },
  {
   "cell_type": "code",
   "execution_count": null,
   "metadata": {
    "ExecuteTime": {
     "end_time": "2019-07-10T03:08:22.628539Z",
     "start_time": "2019-07-10T03:08:22.582808Z"
    }
   },
   "outputs": [],
   "source": [
    "total = 0\n",
    "for lang in os.listdir(\"/home/lyn/lw/multiling2019/multiling2019_wiki/WikiTrain19/full/\"):\n",
    "    count = 0\n",
    "    for _ in os.listdir(\"/home/lyn/lw/multiling2019/multiling2019_wiki/WikiTrain19/full/\"+lang):\n",
    "        count += 1\n",
    "        total += 1\n",
    "    print(lang,count)\n",
    "print(total)"
   ]
  },
  {
   "cell_type": "code",
   "execution_count": null,
   "metadata": {},
   "outputs": [],
   "source": []
  }
 ],
 "metadata": {
  "kernelspec": {
   "display_name": "Python 3 (ipykernel)",
   "language": "python",
   "name": "python3"
  },
  "language_info": {
   "codemirror_mode": {
    "name": "ipython",
    "version": 3
   },
   "file_extension": ".py",
   "mimetype": "text/x-python",
   "name": "python",
   "nbconvert_exporter": "python",
   "pygments_lexer": "ipython3",
   "version": "3.8.2"
  },
  "latex_envs": {
   "LaTeX_envs_menu_present": true,
   "autoclose": false,
   "autocomplete": true,
   "bibliofile": "biblio.bib",
   "cite_by": "apalike",
   "current_citInitial": 1,
   "eqLabelWithNumbers": true,
   "eqNumInitial": 1,
   "hotkeys": {
    "equation": "Ctrl-E",
    "itemize": "Ctrl-I"
   },
   "labels_anchors": false,
   "latex_user_defs": false,
   "report_style_numbering": false,
   "user_envs_cfg": false
  }
 },
 "nbformat": 4,
 "nbformat_minor": 2
}
